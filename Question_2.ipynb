{
 "cells": [
  {
   "cell_type": "code",
   "execution_count": null,
   "id": "657a0198",
   "metadata": {},
   "outputs": [],
   "source": [
    "m,d,y=list(map(int,input().split()))\n",
    "import calendar\n",
    "k=calendar.weekday(y,m,d)\n",
    "week=['MONDAY', 'TUESDAY', 'WEDNESDAY', 'THURSDAY', 'FRIDAY', 'SATURDAY', 'SUNDAY']\n",
    "print(week[k])"
   ]
  }
 ],
 "metadata": {
  "kernelspec": {
   "display_name": "Python 3 (ipykernel)",
   "language": "python",
   "name": "python3"
  },
  "language_info": {
   "codemirror_mode": {
    "name": "ipython",
    "version": 3
   },
   "file_extension": ".py",
   "mimetype": "text/x-python",
   "name": "python",
   "nbconvert_exporter": "python",
   "pygments_lexer": "ipython3",
   "version": "3.9.7"
  }
 },
 "nbformat": 4,
 "nbformat_minor": 5
}
